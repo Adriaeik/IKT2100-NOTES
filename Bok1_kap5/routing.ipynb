{
 "cells": [
  {
   "cell_type": "markdown",
   "metadata": {},
   "source": [
    "### Linkstate"
   ]
  },
  {
   "cell_type": "code",
   "execution_count": 2,
   "metadata": {},
   "outputs": [
    {
     "name": "stdout",
     "output_type": "stream",
     "text": [
      "Kortaste vegar frå U:\n",
      "Til U: Kostnad = 0, Veg = U\n",
      "Til V: Kostnad = 2, Veg = U->X->V\n",
      "Til X: Kostnad = 1, Veg = U->X\n",
      "Til W: Kostnad = 6, Veg = U->X->W\n",
      "Til Y: Kostnad = 6, Veg = U->X->Y\n",
      "Til Z: Kostnad = 7, Veg = U->X->W->Z\n"
     ]
    }
   ],
   "source": [
    "import heapq\n",
    "\n",
    "graph1 = {\n",
    "    'U' : {'V':7, 'X':1},\n",
    "    'V' : {'W':9, 'X':1, 'U':7},\n",
    "    'X' : {'U':1, 'V':1, 'W':5, 'Y':5},\n",
    "    'W' : {'X':7, 'V':9, 'X':5, 'Y': 7, 'Z': 1},\n",
    "    'Y' : {'X':5, 'W':7, 'Z':1},\n",
    "    'Z' : {'W':1, 'Y':1}\n",
    "}\n",
    "\n",
    "def dijkstra(graph, start):\n",
    "    shotertest_paths = {node: float('inf') for node in graph}\n",
    "    shotertest_paths[start] = 0\n",
    "    previous_nodes = {node: None for node in graph}\n",
    "\n",
    "    priority_queue = [(0,start)]\n",
    "    heapq.heapify(priority_queue)\n",
    "\n",
    "    while priority_queue:\n",
    "        current_cost, current_node = heapq.heappop(priority_queue)\n",
    "\n",
    "        for neighbor, weight in graph[current_node].items():\n",
    "            cost = current_cost + weight\n",
    "            if cost < shotertest_paths[neighbor]:\n",
    "                shotertest_paths[neighbor] = cost\n",
    "                previous_nodes[neighbor] = current_node\n",
    "                heapq.heappush(priority_queue, (cost, neighbor))\n",
    "\n",
    "    return shotertest_paths, previous_nodes\n",
    "\n",
    "def find_shortest_paths(graph, start_node):\n",
    "    shotertest_paths, previous_nodes = dijkstra(graph, start_node)\n",
    "\n",
    "    print(f\"Kortaste vegar frå {start_node}:\")\n",
    "    for destination, cost in shotertest_paths.items():\n",
    "        path = []\n",
    "        current_node = destination\n",
    "        while current_node is not None:\n",
    "            path.insert(0, current_node)\n",
    "            current_node = previous_nodes[current_node]\n",
    "        print(f\"Til {destination}: Kostnad = {cost}, Veg = {'->'.join(path)}\")\n",
    "\n",
    "find_shortest_paths(graph1, 'U')\n"
   ]
  },
  {
   "cell_type": "markdown",
   "metadata": {},
   "source": [
    "### Distance vector (DV) Bellman-Ford Algoritme"
   ]
  },
  {
   "cell_type": "code",
   "execution_count": 4,
   "metadata": {},
   "outputs": [
    {
     "name": "stdout",
     "output_type": "stream",
     "text": [
      "Kortaste distansar frå U:\n",
      "Node U: Kostnad = 0, Forgjengar = None\n",
      "Node V: Kostnad = 2, Forgjengar = U\n",
      "Node W: Kostnad = 7, Forgjengar = V\n",
      "Node X: Kostnad = 3, Forgjengar = V\n",
      "Node Y: Kostnad = 7, Forgjengar = X\n",
      "Node Z: Kostnad = 9, Forgjengar = W\n"
     ]
    }
   ],
   "source": [
    "edges = [\n",
    "    ('U','V',2),('U','X',6),('U','W',8),\n",
    "    ('V','X',1),('V','W',5),\n",
    "    ('X','W',7),('X','Y',4),\n",
    "    ('W','Y',8),('W','Z',2),\n",
    "    ('Y','Z',2)\n",
    "]\n",
    "# Kantliste med berre ein veg\n",
    "edges = [\n",
    "    ('U', 'V', 2), ('U', 'X', 6), ('U', 'W', 8),\n",
    "    ('V', 'X', 1), ('V', 'W', 5),\n",
    "    ('X', 'W', 7), ('X', 'Y', 4),\n",
    "    ('W', 'Y', 8), ('W', 'Z', 2),\n",
    "    ('Y', 'Z', 2)\n",
    "]\n",
    "\n",
    "def bellman_ford(nodes, edges, start_node):\n",
    "    # Steg 1: Initialisering av distansar og forgjengar\n",
    "    distance = {node: float('inf') for node in nodes}\n",
    "    predecessor = {node: None for node in nodes}\n",
    "    distance[start_node] = 0\n",
    "    \n",
    "    # Legg til kantar i begge retningar\n",
    "    all_edges = []\n",
    "    for u, v, weight in edges:\n",
    "        all_edges.append((u, v, weight))  # Kant fra u til v\n",
    "        all_edges.append((v, u, weight))  # Motsatt kant fra v til u\n",
    "\n",
    "    # Steg 2: Relax alle kantar V - 1 gonger\n",
    "    for i in range(len(nodes) - 1):\n",
    "        for u, v, weight in all_edges:\n",
    "            if distance[u] + weight < distance[v]:\n",
    "                distance[v] = distance[u] + weight\n",
    "                predecessor[v] = u\n",
    "\n",
    "    # Steg 3: Sjekk for negative syklusar\n",
    "    for u, v, weight in all_edges:\n",
    "        if distance[u] + weight < distance[v]:\n",
    "            print(f\"Grafen inneheld ein negativ syklus\")\n",
    "            return None, None\n",
    "\n",
    "    return distance, predecessor\n",
    "\n",
    "# Definer nodene\n",
    "nodes = ['U', 'V', 'W', 'X', 'Y', 'Z']\n",
    "\n",
    "# Kall funksjonen med startnode U\n",
    "distance, predecessor = bellman_ford(nodes, edges, 'U')\n",
    "\n",
    "# Resultat\n",
    "if distance:\n",
    "    print(\"Kortaste distansar frå U:\")\n",
    "    for node in nodes:\n",
    "        print(f\"Node {node}: Kostnad = {distance[node]}, Forgjengar = {predecessor[node]}\")\n"
   ]
  }
 ],
 "metadata": {
  "kernelspec": {
   "display_name": "Python 3",
   "language": "python",
   "name": "python3"
  },
  "language_info": {
   "codemirror_mode": {
    "name": "ipython",
    "version": 3
   },
   "file_extension": ".py",
   "mimetype": "text/x-python",
   "name": "python",
   "nbconvert_exporter": "python",
   "pygments_lexer": "ipython3",
   "version": "3.11.5"
  }
 },
 "nbformat": 4,
 "nbformat_minor": 2
}
